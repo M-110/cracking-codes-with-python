{
  "nbformat": 4,
  "nbformat_minor": 0,
  "metadata": {
    "colab": {
      "name": "05_Caesar_Cipher.ipynb",
      "provenance": [],
      "collapsed_sections": [],
      "authorship_tag": "ABX9TyOXgR3T2nDNgDWGPvbD8sTG",
      "include_colab_link": true
    },
    "kernelspec": {
      "name": "python3",
      "display_name": "Python 3"
    },
    "language_info": {
      "name": "python"
    }
  },
  "cells": [
    {
      "cell_type": "markdown",
      "metadata": {
        "id": "view-in-github",
        "colab_type": "text"
      },
      "source": [
        "<a href=\"https://colab.research.google.com/github/M-110/cracking-codes-with-python/blob/main/05_Caesar_Cipher.ipynb\" target=\"_parent\"><img src=\"https://colab.research.google.com/assets/colab-badge.svg\" alt=\"Open In Colab\"/></a>"
      ]
    },
    {
      "cell_type": "code",
      "metadata": {
        "colab": {
          "base_uri": "https://localhost:8080/"
        },
        "id": "OcJ7AkiEFQq8",
        "outputId": "49753d42-e484-493d-a5b5-7ebda8be3fa6"
      },
      "source": [
        "%%writefile caesar.py\n",
        "import argparse\n",
        "\n",
        "\n",
        "SYMBOLS = 'ABCDEFGHIJKLMNOPQRSTUVWXYZabcdefghijklmnopqrstuvwxyz1234567890 !?.'\n",
        "\n",
        "\n",
        "def get_args():\n",
        "  \"\"\"Get arguments from command line\"\"\"\n",
        "  parser = argparse.ArgumentParser(\n",
        "      description=\"Encrypt or decrypt text using the caesar cipher\")\n",
        "  parser.add_argument('text', help='Text to be encrypted or decrypted')\n",
        "  parser.add_argument('key', help='Cipher key', type=int)\n",
        "  parser.add_argument('-d', '--decrypt', action='store_true', help='Decrypt the text')\n",
        "  return parser.parse_args()\n",
        "\n",
        "\n",
        "def shift_text_n_characters(text: str, n: int) -> str:\n",
        "  \"\"\"Shift the given text n characters to the right\"\"\"\n",
        "  result = ''\n",
        "  for char in text:\n",
        "    if char in SYMBOLS:\n",
        "      position = SYMBOLS.find(char)\n",
        "      result += SYMBOLS[(position + n)%len(SYMBOLS)]\n",
        "    else:\n",
        "      result += char\n",
        "  return result\n",
        "\n",
        "\n",
        "def main():\n",
        "  args = get_args()\n",
        "  if args.decrypt:\n",
        "    args.key = len(SYMBOLS) - args.key\n",
        "  result = shift_text_n_characters(args.text, args.key)\n",
        "  print(result)\n",
        "\n",
        "\n",
        "if __name__ == '__main__':\n",
        "  main()\n",
        "\n"
      ],
      "execution_count": null,
      "outputs": [
        {
          "output_type": "stream",
          "name": "stdout",
          "text": [
            "Writing caesar.py\n"
          ]
        }
      ]
    },
    {
      "cell_type": "code",
      "metadata": {
        "colab": {
          "base_uri": "https://localhost:8080/"
        },
        "id": "7TG-agp9Fq8g",
        "outputId": "441f6634-fbb7-4a1c-8e33-808188b28d4e"
      },
      "source": [
        "!python caesar.py \"hello world\" 5"
      ],
      "execution_count": null,
      "outputs": [
        {
          "output_type": "stream",
          "name": "stdout",
          "text": [
            "mjqqtB2twqi\n"
          ]
        }
      ]
    },
    {
      "cell_type": "code",
      "metadata": {
        "colab": {
          "base_uri": "https://localhost:8080/"
        },
        "id": "PPiWv7jqF7mY",
        "outputId": "e9aed1a4-fa9b-440c-eb08-74f328d06931"
      },
      "source": [
        "!python caesar.py \"mjqqtB2twqi\" 5 --decrypt"
      ],
      "execution_count": null,
      "outputs": [
        {
          "output_type": "stream",
          "name": "stdout",
          "text": [
            "hello world\n"
          ]
        }
      ]
    },
    {
      "cell_type": "markdown",
      "metadata": {
        "id": "3dg_2hSQb-OI"
      },
      "source": [
        "# Exercises\n",
        "\n"
      ]
    },
    {
      "cell_type": "markdown",
      "metadata": {
        "id": "dCZcrxrxcGYm"
      },
      "source": [
        "1. Using caesarCipher.py, encrypt the following sentences with the given keys:\n",
        "\n",
        "'\"You can show black is white by argument,\" said Filby, \"but you will never convince me.\"' with key 8\n",
        "\n",
        "'1234567890' with key 21"
      ]
    },
    {
      "cell_type": "code",
      "metadata": {
        "colab": {
          "base_uri": "https://localhost:8080/"
        },
        "id": "cApi7gOecH8Z",
        "outputId": "0455c2a1-a704-4120-c709-52a2ea5f6b2c"
      },
      "source": [
        "!python caesar.py '\"You can show black is white by argument,\" said Filby, \"but you will never convince me.\"' 8"
      ],
      "execution_count": null,
      "outputs": [
        {
          "output_type": "stream",
          "name": "stdout",
          "text": [
            "\"gw3EkivE1pw5EjtiksEq1E5pq2mEj7Eizo3umv2,\"E1iqlENqtj7,E\"j32E7w3E5qttEvm4mzEkwv4qvkmEumH\"\n"
          ]
        }
      ]
    },
    {
      "cell_type": "code",
      "metadata": {
        "colab": {
          "base_uri": "https://localhost:8080/"
        },
        "id": "a1zk2tkudpnf",
        "outputId": "1f39d2ed-6135-4282-cbc2-2ba001f3287e"
      },
      "source": [
        "!python caesar.py '1234567890' 21"
      ],
      "execution_count": null,
      "outputs": [
        {
          "output_type": "stream",
          "name": "stdout",
          "text": [
            "HIJKLMNOPQ\n"
          ]
        }
      ]
    },
    {
      "cell_type": "markdown",
      "metadata": {
        "id": "uDoLkOyacEC0"
      },
      "source": [
        "2. Using caesarCipher.py, decrypt the following ciphertexts with the given keys:\n",
        "\n",
        "'Kv?uqwpfu?rncwukdng?gpqwijB' with key 2\n",
        "\n",
        "'XCBSw88S18A1S 2SB41SE .8zSEwAS50D5A5x81V' with key 22"
      ]
    },
    {
      "cell_type": "code",
      "metadata": {
        "colab": {
          "base_uri": "https://localhost:8080/"
        },
        "id": "er9nXAHGdwga",
        "outputId": "c5cd6732-c9bd-47e4-ec3a-32c5692fdeb7"
      },
      "source": [
        "!python caesar.py Kv?uqwpfu?rncwukdng?gpqwijB 2 --decrypt"
      ],
      "execution_count": null,
      "outputs": [
        {
          "output_type": "stream",
          "name": "stdout",
          "text": [
            "It sounds plausible enough.\n"
          ]
        }
      ]
    },
    {
      "cell_type": "code",
      "metadata": {
        "colab": {
          "base_uri": "https://localhost:8080/"
        },
        "id": "31sgxKVPd8Wu",
        "outputId": "ffb0621d-52a5-47f5-bc75-79b02be90f54"
      },
      "source": [
        "!python caesar.py \"XCBSw88S18A1S 2SB41SE .8zSEwAS50D5A5x81V\" 22 --decrypt"
      ],
      "execution_count": null,
      "outputs": [
        {
          "output_type": "stream",
          "name": "stdout",
          "text": [
            "But all else of the world was invisible.\n"
          ]
        }
      ]
    }
  ]
}