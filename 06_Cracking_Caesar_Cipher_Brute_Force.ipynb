{
  "nbformat": 4,
  "nbformat_minor": 0,
  "metadata": {
    "colab": {
      "name": "06_Cracking_Caesar_Cipher_Brute_Force.ipynb",
      "provenance": [],
      "collapsed_sections": [],
      "authorship_tag": "ABX9TyM9OrkkW4fXiGj8MSPrS5WO",
      "include_colab_link": true
    },
    "kernelspec": {
      "name": "python3",
      "display_name": "Python 3"
    },
    "language_info": {
      "name": "python"
    }
  },
  "cells": [
    {
      "cell_type": "markdown",
      "metadata": {
        "id": "view-in-github",
        "colab_type": "text"
      },
      "source": [
        "<a href=\"https://colab.research.google.com/github/M-110/cracking-codes-with-python/blob/main/06_Cracking_Caesar_Cipher_Brute_Force.ipynb\" target=\"_parent\"><img src=\"https://colab.research.google.com/assets/colab-badge.svg\" alt=\"Open In Colab\"/></a>"
      ]
    },
    {
      "cell_type": "markdown",
      "metadata": {
        "id": "cJ_MrP9-s9oV"
      },
      "source": [
        "The brute-force technique is so effective against the Caesar cipher that it renders it obsolete."
      ]
    },
    {
      "cell_type": "markdown",
      "metadata": {
        "id": "aYS5PanMtoPV"
      },
      "source": [
        "# Display all possible decryptions"
      ]
    },
    {
      "cell_type": "code",
      "metadata": {
        "colab": {
          "base_uri": "https://localhost:8080/"
        },
        "id": "dyRoP4AJsS_9",
        "outputId": "6b233c6a-b8ae-4e16-eb69-af86cc0a3984"
      },
      "source": [
        "%%writefile caesar_hack.py\n",
        "import argparse\n",
        "\n",
        "\n",
        "SYMBOLS = 'ABCDEFGHIJKLMNOPQRSTUVWXYZabcdefghijklmnopqrstuvwxyz1234567890 !?.'\n",
        "\n",
        "\n",
        "def get_args():\n",
        "  \"\"\"Get arguments from command line\"\"\"\n",
        "  parser = argparse.ArgumentParser(\n",
        "      description=\"Decrypt using all possible keys\")\n",
        "  parser.add_argument('text', help='Text to be encrypted or decrypted')\n",
        "  return parser.parse_args()\n",
        "\n",
        "\n",
        "def shift_text_n_characters(text: str, n: int) -> str:\n",
        "  \"\"\"Shift the given text n characters to the right\"\"\"\n",
        "  result = ''\n",
        "  for char in text:\n",
        "    if char in SYMBOLS:\n",
        "      position = SYMBOLS.find(char)\n",
        "      result += SYMBOLS[(position - n)%len(SYMBOLS)]\n",
        "    else:\n",
        "      result += char\n",
        "  return result\n",
        "\n",
        "\n",
        "def main():\n",
        "  args = get_args()\n",
        "  for i in range(len(SYMBOLS)):\n",
        "    result = shift_text_n_characters(args.text, i)\n",
        "    print(f'Key #{(str(i) + \":\"):<4} {result}')\n",
        "\n",
        "\n",
        "if __name__ == '__main__':\n",
        "  main()\n",
        "\n"
      ],
      "execution_count": null,
      "outputs": [
        {
          "output_type": "stream",
          "name": "stdout",
          "text": [
            "Overwriting caesar_hack.py\n"
          ]
        }
      ]
    },
    {
      "cell_type": "code",
      "metadata": {
        "colab": {
          "base_uri": "https://localhost:8080/"
        },
        "id": "831mVQ9Jtzvh",
        "outputId": "b97a88b0-9879-483f-8ee0-969a4a1b8981"
      },
      "source": [
        "!python caesar_hack.py guv6Jv6Jz!J6rp5r7Jzr66ntrM"
      ],
      "execution_count": null,
      "outputs": [
        {
          "output_type": "stream",
          "name": "stdout",
          "text": [
            "Key #0:   guv6Jv6Jz!J6rp5r7Jzr66ntrM\n",
            "Key #1:   ftu5Iu5Iy I5qo4q6Iyq55msqL\n",
            "Key #2:   est4Ht4Hx0H4pn3p5Hxp44lrpK\n",
            "Key #3:   drs3Gs3Gw9G3om2o4Gwo33kqoJ\n",
            "Key #4:   cqr2Fr2Fv8F2nl1n3Fvn22jpnI\n",
            "Key #5:   bpq1Eq1Eu7E1mkzm2Eum11iomH\n",
            "Key #6:   aopzDpzDt6Dzljyl1DtlzzhnlG\n",
            "Key #7:   ZnoyCoyCs5CykixkzCskyygmkF\n",
            "Key #8:   YmnxBnxBr4BxjhwjyBrjxxfljE\n",
            "Key #9:   XlmwAmwAq3AwigvixAqiwwekiD\n",
            "Key #10:  Wklv.lv.p2.vhfuhw.phvvdjhC\n",
            "Key #11:  Vjku?ku?o1?ugetgv?oguucigB\n",
            "Key #12:  Uijt!jt!nz!tfdsfu!nfttbhfA\n",
            "Key #13:  This is my secret message.\n",
            "Key #14:  Sghr0hr0lx0rdbqds0ldrrZfd?\n",
            "Key #15:  Rfgq9gq9kw9qcapcr9kcqqYec!\n",
            "Key #16:  Qefp8fp8jv8pbZobq8jbppXdb \n",
            "Key #17:  Pdeo7eo7iu7oaYnap7iaooWca0\n",
            "Key #18:  Ocdn6dn6ht6nZXmZo6hZnnVbZ9\n",
            "Key #19:  Nbcm5cm5gs5mYWlYn5gYmmUaY8\n",
            "Key #20:  Mabl4bl4fr4lXVkXm4fXllTZX7\n",
            "Key #21:  LZak3ak3eq3kWUjWl3eWkkSYW6\n",
            "Key #22:  KYZj2Zj2dp2jVTiVk2dVjjRXV5\n",
            "Key #23:  JXYi1Yi1co1iUShUj1cUiiQWU4\n",
            "Key #24:  IWXhzXhzbnzhTRgTizbThhPVT3\n",
            "Key #25:  HVWgyWgyamygSQfShyaSggOUS2\n",
            "Key #26:  GUVfxVfxZlxfRPeRgxZRffNTR1\n",
            "Key #27:  FTUewUewYkweQOdQfwYQeeMSQz\n",
            "Key #28:  ESTdvTdvXjvdPNcPevXPddLRPy\n",
            "Key #29:  DRScuScuWiucOMbOduWOccKQOx\n",
            "Key #30:  CQRbtRbtVhtbNLaNctVNbbJPNw\n",
            "Key #31:  BPQasQasUgsaMKZMbsUMaaIOMv\n",
            "Key #32:  AOPZrPZrTfrZLJYLarTLZZHNLu\n",
            "Key #33:  .NOYqOYqSeqYKIXKZqSKYYGMKt\n",
            "Key #34:  ?MNXpNXpRdpXJHWJYpRJXXFLJs\n",
            "Key #35:  !LMWoMWoQcoWIGVIXoQIWWEKIr\n",
            "Key #36:   KLVnLVnPbnVHFUHWnPHVVDJHq\n",
            "Key #37:  0JKUmKUmOamUGETGVmOGUUCIGp\n",
            "Key #38:  9IJTlJTlNZlTFDSFUlNFTTBHFo\n",
            "Key #39:  8HISkISkMYkSECRETkMESSAGEn\n",
            "Key #40:  7GHRjHRjLXjRDBQDSjLDRR.FDm\n",
            "Key #41:  6FGQiGQiKWiQCAPCRiKCQQ?ECl\n",
            "Key #42:  5EFPhFPhJVhPB.OBQhJBPP!DBk\n",
            "Key #43:  4DEOgEOgIUgOA?NAPgIAOO CAj\n",
            "Key #44:  3CDNfDNfHTfN.!M.OfH.NN0B.i\n",
            "Key #45:  2BCMeCMeGSeM? L?NeG?MM9A?h\n",
            "Key #46:  1ABLdBLdFRdL!0K!MdF!LL8.!g\n",
            "Key #47:  z.AKcAKcEQcK 9J LcE KK7? f\n",
            "Key #48:  y?.Jb.JbDPbJ08I0KbD0JJ6!0e\n",
            "Key #49:  x!?Ia?IaCOaI97H9JaC9II5 9d\n",
            "Key #50:  w !HZ!HZBNZH86G8IZB8HH408c\n",
            "Key #51:  v0 GY GYAMYG75F7HYA7GG397b\n",
            "Key #52:  u90FX0FX.LXF64E6GX.6FF286a\n",
            "Key #53:  t89EW9EW?KWE53D5FW?5EE175Z\n",
            "Key #54:  s78DV8DV!JVD42C4EV!4DDz64Y\n",
            "Key #55:  r67CU7CU IUC31B3DU 3CCy53X\n",
            "Key #56:  q56BT6BT0HTB2zA2CT02BBx42W\n",
            "Key #57:  p45AS5AS9GSA1y.1BS91AAw31V\n",
            "Key #58:  o34.R4.R8FR.zx?zAR8z..v2zU\n",
            "Key #59:  n23?Q3?Q7EQ?yw!y.Q7y??u1yT\n",
            "Key #60:  m12!P2!P6DP!xv x?P6x!!tzxS\n",
            "Key #61:  lz1 O1 O5CO wu0w!O5w  sywR\n",
            "Key #62:  kyz0Nz0N4BN0vt9v N4v00rxvQ\n",
            "Key #63:  jxy9My9M3AM9us8u0M3u99qwuP\n",
            "Key #64:  iwx8Lx8L2.L8tr7t9L2t88pvtO\n",
            "Key #65:  hvw7Kw7K1?K7sq6s8K1s77ousN\n"
          ]
        }
      ]
    },
    {
      "cell_type": "markdown",
      "metadata": {
        "id": "Dc2-ZfjryoaW"
      },
      "source": [
        "# Decrypt using NLTK corpus"
      ]
    },
    {
      "cell_type": "code",
      "metadata": {
        "colab": {
          "base_uri": "https://localhost:8080/"
        },
        "id": "0-PQ-GWxuvrw",
        "outputId": "27806a93-6ee7-47eb-bf90-e393825cb2e4"
      },
      "source": [
        "nltk.download('words')\n",
        "from nltk.corpus import words"
      ],
      "execution_count": null,
      "outputs": [
        {
          "output_type": "stream",
          "name": "stdout",
          "text": [
            "[nltk_data] Downloading package words to /root/nltk_data...\n",
            "[nltk_data]   Unzipping corpora/words.zip.\n"
          ]
        }
      ]
    },
    {
      "cell_type": "code",
      "metadata": {
        "colab": {
          "base_uri": "https://localhost:8080/"
        },
        "id": "LR27orjnwzIN",
        "outputId": "38f4efa0-9f03-4eb0-be96-b13bd8132ff2"
      },
      "source": [
        "%%writefile caesar_hack_auto.py\n",
        "import argparse\n",
        "\n",
        "from nltk.corpus import words\n",
        "\n",
        "\n",
        "SYMBOLS = 'ABCDEFGHIJKLMNOPQRSTUVWXYZabcdefghijklmnopqrstuvwxyz1234567890 !?.'\n",
        "\n",
        "\n",
        "def get_args():\n",
        "  \"\"\"Get arguments from command line\"\"\"\n",
        "  parser = argparse.ArgumentParser(\n",
        "      description=\"Decrypt using all possible keys\")\n",
        "  parser.add_argument('text', help='Text to be encrypted or decrypted')\n",
        "  return parser.parse_args()\n",
        "\n",
        "\n",
        "def shift_text_n_characters(text: str, n: int) -> str:\n",
        "  \"\"\"Shift the given text n characters to the right\"\"\"\n",
        "  result = ''\n",
        "  for char in text:\n",
        "    if char in SYMBOLS:\n",
        "      position = SYMBOLS.find(char)\n",
        "      result += SYMBOLS[(position - n)%len(SYMBOLS)]\n",
        "    else:\n",
        "      result += char\n",
        "  return result\n",
        "\n",
        "\n",
        "def main():\n",
        "  args = get_args()\n",
        "  for i in range(len(SYMBOLS)):\n",
        "    result = shift_text_n_characters(args.text, i)\n",
        "    for word in result.split(' '):\n",
        "      if word in words.words():\n",
        "        print(f'Encryption Key: {i}\\n{result!r}')\n",
        "        return \n",
        "\n",
        "if __name__ == '__main__':\n",
        "  main()\n"
      ],
      "execution_count": null,
      "outputs": [
        {
          "output_type": "stream",
          "name": "stdout",
          "text": [
            "Overwriting caesar_hack_auto.py\n"
          ]
        }
      ]
    },
    {
      "cell_type": "code",
      "metadata": {
        "colab": {
          "base_uri": "https://localhost:8080/"
        },
        "id": "IPw2mP6Lw1Sy",
        "outputId": "7430d6d9-b4a6-4154-a491-529396d302ef"
      },
      "source": [
        "!python caesar_hack_auto.py guv6Jv6Jz!J6rp5r7Jzr66ntrM"
      ],
      "execution_count": null,
      "outputs": [
        {
          "output_type": "stream",
          "name": "stdout",
          "text": [
            "Encryption Key: 13\n",
            "'This is my secret message.'\n"
          ]
        }
      ]
    },
    {
      "cell_type": "markdown",
      "metadata": {
        "id": "M7uxweYqyrDj"
      },
      "source": [
        "# Decrypt text file with multiple lines"
      ]
    },
    {
      "cell_type": "code",
      "metadata": {
        "colab": {
          "base_uri": "https://localhost:8080/"
        },
        "id": "2vEvVyStyI-a",
        "outputId": "352571e9-1508-4e5e-dcd4-b53fd028a499"
      },
      "source": [
        "%%writefile caesar_hack_file.py\n",
        "import argparse\n",
        "\n",
        "from nltk.corpus import words\n",
        "\n",
        "\n",
        "SYMBOLS = 'ABCDEFGHIJKLMNOPQRSTUVWXYZabcdefghijklmnopqrstuvwxyz1234567890 !?.'\n",
        "\n",
        "\n",
        "def get_args():\n",
        "  \"\"\"Get arguments from command line\"\"\"\n",
        "  parser = argparse.ArgumentParser(\n",
        "      description=\"Decrypt using all possible keys\")\n",
        "  parser.add_argument('text_file', help='Text file to be encrypted or decrypted',\n",
        "                      type=argparse.FileType('r'))\n",
        "  return parser.parse_args()\n",
        "\n",
        "\n",
        "def shift_text_n_characters(text: str, n: int) -> str:\n",
        "  \"\"\"Shift the given text n characters to the right\"\"\"\n",
        "  result = ''\n",
        "  for char in text:\n",
        "    if char in SYMBOLS:\n",
        "      position = SYMBOLS.find(char)\n",
        "      result += SYMBOLS[(position - n)%len(SYMBOLS)]\n",
        "    else:\n",
        "      result += char\n",
        "  return result\n",
        "  \n",
        "\n",
        "def decrypt_line(line: str):\n",
        "  \"\"\"Decrypt a line of text.\"\"\"\n",
        "  best_match = line\n",
        "  best_match_count = 0\n",
        "  for i in range(len(SYMBOLS)):\n",
        "    result = shift_text_n_characters(line, i)\n",
        "    match_count = 0\n",
        "    for word in result.split(' '):\n",
        "      if word.lower() in words.words():\n",
        "        match_count += 1\n",
        "    if match_count > best_match_count:\n",
        "      best_match = result\n",
        "      best_match_count = match_count\n",
        "  return best_match\n",
        "\n",
        "\n",
        "\n",
        "def main():\n",
        "  args = get_args()\n",
        "  for line in args.text_file:\n",
        "    line = line.strip()\n",
        "    if line:\n",
        "      print(decrypt_line(line))\n",
        "    else:\n",
        "      print('')\n",
        "\n",
        "if __name__ == '__main__':\n",
        "  main()\n"
      ],
      "execution_count": null,
      "outputs": [
        {
          "output_type": "stream",
          "name": "stdout",
          "text": [
            "Overwriting caesar_hack_file.py\n"
          ]
        }
      ]
    },
    {
      "cell_type": "markdown",
      "metadata": {
        "id": "jiMMTCFH2gzo"
      },
      "source": [
        "# Practice Question\n",
        "\n",
        "Break the following ciphertext, decrypting one line at a time because each line has a different key. Remember to escape any quote characters:"
      ]
    },
    {
      "cell_type": "code",
      "metadata": {
        "colab": {
          "base_uri": "https://localhost:8080/"
        },
        "id": "f54E03j_zsaZ",
        "outputId": "7319caa3-0437-4203-d023-f1c956a2febe"
      },
      "source": [
        "%%writefile encrypted_text.txt\n",
        "qeFIP?eGSeECNNS,\n",
        "5coOMXXcoPSZIWoQI,\n",
        "avnl1olyD4l'ylDohww6DhzDjhuDil,\n",
        "\n",
        "z.GM?.cEQc. 70c.7KcKMKHA9AGFK,\n",
        "?MFYp2pPJJUpZSIJWpRdpMFY,\n",
        "ZqH8sl5HtqHTH4s3lyvH5zH5spH4t pHzqHlH3l5K\n",
        "\n",
        "Zfbi,!tif!xpvme!qspcbcmz!fbu!nfA"
      ],
      "execution_count": null,
      "outputs": [
        {
          "output_type": "stream",
          "name": "stdout",
          "text": [
            "Overwriting encrypted_text.txt\n"
          ]
        }
      ]
    },
    {
      "cell_type": "code",
      "metadata": {
        "colab": {
          "base_uri": "https://localhost:8080/"
        },
        "id": "u18FKl34y2fC",
        "outputId": "06908fac-b6f6-4475-8f0d-47574e87add9"
      },
      "source": [
        "!python caesar_hack_file.py encrypted_text.txt"
      ],
      "execution_count": null,
      "outputs": [
        {
          "output_type": "stream",
          "name": "stdout",
          "text": [
            "I love my kitty,\n",
            "My kitty loves me,\n",
            "Together we're happy as can be,\n",
            "\n",
            "Though my head has suspicions,\n",
            "That I keep under my hat,\n",
            "Of what if I shrank to the size of a rat.\n",
            "\n",
            "Yeah, she would probably eat me.\n"
          ]
        }
      ]
    }
  ]
}