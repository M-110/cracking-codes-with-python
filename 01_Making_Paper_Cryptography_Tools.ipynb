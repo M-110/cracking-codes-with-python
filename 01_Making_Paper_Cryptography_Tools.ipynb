{
  "nbformat": 4,
  "nbformat_minor": 0,
  "metadata": {
    "colab": {
      "name": "01_Making_Paper_Cryptography_Tools.ipynb",
      "provenance": [],
      "collapsed_sections": [],
      "authorship_tag": "ABX9TyN3M/VKl5G3nH4XnsSQA0FG",
      "include_colab_link": true
    },
    "kernelspec": {
      "name": "python3",
      "display_name": "Python 3"
    },
    "language_info": {
      "name": "python"
    }
  },
  "cells": [
    {
      "cell_type": "markdown",
      "metadata": {
        "id": "view-in-github",
        "colab_type": "text"
      },
      "source": [
        "<a href=\"https://colab.research.google.com/github/M-110/cracking-codes-with-python/blob/main/01_Making_Paper_Cryptography_Tools.ipynb\" target=\"_parent\"><img src=\"https://colab.research.google.com/assets/colab-badge.svg\" alt=\"Open In Colab\"/></a>"
      ]
    },
    {
      "cell_type": "markdown",
      "metadata": {
        "id": "Hu0P7N0rNYW-"
      },
      "source": [
        "The Caesar Cipher"
      ]
    },
    {
      "cell_type": "code",
      "metadata": {
        "id": "28-Sx6s-NN71"
      },
      "source": [
        "from string import ascii_uppercase, ascii_lowercase"
      ],
      "execution_count": null,
      "outputs": []
    },
    {
      "cell_type": "code",
      "metadata": {
        "id": "nuT-c30tQfiH"
      },
      "source": [
        "def caesar_key(key: int):\n",
        "  alphabet = list(ascii_uppercase)\n",
        "  encrypted_alphabet = alphabet[key:] + alphabet[:key]\n",
        "  for letter, encrypted_letter in zip(alphabet, encrypted_alphabet):\n",
        "    print(f'{letter} -> {encrypted_letter}')\n"
      ],
      "execution_count": null,
      "outputs": []
    },
    {
      "cell_type": "code",
      "metadata": {
        "colab": {
          "base_uri": "https://localhost:8080/"
        },
        "id": "9unCFJaVmk2K",
        "outputId": "f07699a9-1ef5-4328-a18d-30aec637572d"
      },
      "source": [
        "caesar_key(5)"
      ],
      "execution_count": null,
      "outputs": [
        {
          "output_type": "stream",
          "name": "stdout",
          "text": [
            "A -> F\n",
            "B -> G\n",
            "C -> H\n",
            "D -> I\n",
            "E -> J\n",
            "F -> K\n",
            "G -> L\n",
            "H -> M\n",
            "I -> N\n",
            "J -> O\n",
            "K -> P\n",
            "L -> Q\n",
            "M -> R\n",
            "N -> S\n",
            "O -> T\n",
            "P -> U\n",
            "Q -> V\n",
            "R -> W\n",
            "S -> X\n",
            "T -> Y\n",
            "U -> Z\n",
            "V -> A\n",
            "W -> B\n",
            "X -> C\n",
            "Y -> D\n",
            "Z -> E\n"
          ]
        }
      ]
    },
    {
      "cell_type": "code",
      "metadata": {
        "id": "jV1AhjGzNc0h"
      },
      "source": [
        "def caesar_encrypt(text: str, key: int) -> str:\n",
        "  \"\"\"Encrypt text using the caesar cipher.\"\"\"\n",
        "  encrypted = ''\n",
        "  for letter in text:\n",
        "    position = ascii_lowercase.find(letter.lower())\n",
        "    encrypted_position = (position + key) % 26\n",
        "    if letter in ascii_uppercase:\n",
        "      encrypted += ascii_uppercase[encrypted_position]\n",
        "    elif letter in ascii_lowercase:\n",
        "      encrypted += ascii_lowercase[encrypted_position]\n",
        "    else:\n",
        "      encrypted += letter\n",
        "  return encrypted\n"
      ],
      "execution_count": null,
      "outputs": []
    },
    {
      "cell_type": "code",
      "metadata": {
        "colab": {
          "base_uri": "https://localhost:8080/",
          "height": 35
        },
        "id": "mBHJ5OeJnha6",
        "outputId": "daf35aee-6a94-48bf-f6d9-7b0e0956e48b"
      },
      "source": [
        "caesar_encrypt('THE CODE TO THE HOUSE IS SUNNY', 7)"
      ],
      "execution_count": null,
      "outputs": [
        {
          "output_type": "execute_result",
          "data": {
            "application/vnd.google.colaboratory.intrinsic+json": {
              "type": "string"
            },
            "text/plain": [
              "'AOL JVKL AV AOL OVBZL PZ ZBUUF'"
            ]
          },
          "metadata": {},
          "execution_count": 23
        }
      ]
    },
    {
      "cell_type": "code",
      "metadata": {
        "id": "_ZD0p-xxn4Rx"
      },
      "source": [
        "def caesar_decrypt(text: str, key: int) -> str:\n",
        "  \"\"\"Decrypt text using the caesar cipher.\"\"\"\n",
        "  return caesar_encrypt(text, -key)\n"
      ],
      "execution_count": null,
      "outputs": []
    },
    {
      "cell_type": "code",
      "metadata": {
        "colab": {
          "base_uri": "https://localhost:8080/"
        },
        "id": "lf8BrZyOoP9v",
        "outputId": "3232c9c1-4bf6-46b2-bb8f-cbda7905cdd3"
      },
      "source": [
        "message = 'THE QUICK BROWN FOX JUMPS OVER THE FENCE'\n",
        "key = 14\n",
        "encrypted = caesar_encrypt(message, key)\n",
        "decrypted = caesar_decrypt(encrypted, key)\n",
        "print(message)\n",
        "print(encrypted)\n",
        "print(decrypted)"
      ],
      "execution_count": null,
      "outputs": [
        {
          "output_type": "stream",
          "name": "stdout",
          "text": [
            "THE QUICK BROWN FOX JUMPS OVER THE FENCE\n",
            "HVS EIWQY PFCKB TCL XIADG CJSF HVS TSBQS\n",
            "THE QUICK BROWN FOX JUMPS OVER THE FENCE\n"
          ]
        }
      ]
    },
    {
      "cell_type": "code",
      "metadata": {
        "id": "Mk1eqPTmuZ_f"
      },
      "source": [
        "def ceasar_detect_key(original_text, encrypted_text) -> int:\n",
        "  \"\"\"Returns the key used to encrypt the text.\"\"\"\n",
        "  for original_char, encrypted_char in zip(original_text, encrypted_text):\n",
        "    if original_char.lower() in ascii_lowercase:\n",
        "      original_position = ascii_lowercase.find(original_char.lower())\n",
        "      encrypted_position = ascii_lowercase.find(encrypted_char.lower())\n",
        "      return (encrypted_position - original_position + 26) % 26\n",
        "  raise ValueError('Invalid texts')\n"
      ],
      "execution_count": null,
      "outputs": []
    },
    {
      "cell_type": "markdown",
      "metadata": {
        "id": "iB0GJYMiqfIU"
      },
      "source": [
        "# Exercises"
      ]
    },
    {
      "cell_type": "markdown",
      "metadata": {
        "id": "npFEZE8AqMWy"
      },
      "source": [
        "1. Encrypt the following entries from Ambrose Bierce’s The Devil’s Dictionary with the given keys:\n",
        "\n",
        "With key 4: “AMBIDEXTROUS: Able to pick with equal skill a right-hand pocket or a left.”\n",
        "\n",
        "With key 17: “GUILLOTINE: A machine which makes a Frenchman shrug his shoulders with good reason.”\n",
        "\n",
        "With key 21: “IMPIETY: Your irreverence toward my deity.”\n"
      ]
    },
    {
      "cell_type": "code",
      "metadata": {
        "colab": {
          "base_uri": "https://localhost:8080/",
          "height": 35
        },
        "id": "H7UX-7b7qvGq",
        "outputId": "a2dc1e4a-bc8f-4297-fd0b-06df5976d898"
      },
      "source": [
        "caesar_encrypt(\"AMBIDEXTROUS: Able to pick with equal skill a right-hand pocket or a left.\", 4)"
      ],
      "execution_count": null,
      "outputs": [
        {
          "output_type": "execute_result",
          "data": {
            "application/vnd.google.colaboratory.intrinsic+json": {
              "type": "string"
            },
            "text/plain": [
              "'EQFMHIBXVSYW: Efpi xs tmgo amxl iuyep wompp e vmklx-lerh tsgoix sv e pijx.'"
            ]
          },
          "metadata": {},
          "execution_count": 28
        }
      ]
    },
    {
      "cell_type": "code",
      "metadata": {
        "colab": {
          "base_uri": "https://localhost:8080/",
          "height": 35
        },
        "id": "IkEhN6jnq7Su",
        "outputId": "36d2c0ee-10dc-4f13-8806-6fd7b925bb32"
      },
      "source": [
        "caesar_encrypt(\"GUILLOTINE: A machine which makes a Frenchman shrug his shoulders with good reason.\", 17)"
      ],
      "execution_count": null,
      "outputs": [
        {
          "output_type": "execute_result",
          "data": {
            "application/vnd.google.colaboratory.intrinsic+json": {
              "type": "string"
            },
            "text/plain": [
              "'XLZCCFKZEV: R drtyzev nyzty drbvj r Wivetydre jyilx yzj jyflcuvij nzky xffu ivrjfe.'"
            ]
          },
          "metadata": {},
          "execution_count": 29
        }
      ]
    },
    {
      "cell_type": "code",
      "metadata": {
        "colab": {
          "base_uri": "https://localhost:8080/",
          "height": 35
        },
        "id": "J1os0Ozpq9nN",
        "outputId": "d3f65359-1888-4d5a-e252-f09a742a42dc"
      },
      "source": [
        "caesar_encrypt(\"IMPIETY: Your irreverence toward my deity.\", 21)"
      ],
      "execution_count": null,
      "outputs": [
        {
          "output_type": "execute_result",
          "data": {
            "application/vnd.google.colaboratory.intrinsic+json": {
              "type": "string"
            },
            "text/plain": [
              "'DHKDZOT: Tjpm dmmzqzmzixz ojrvmy ht yzdot.'"
            ]
          },
          "metadata": {},
          "execution_count": 30
        }
      ]
    },
    {
      "cell_type": "markdown",
      "metadata": {
        "id": "-Y28A5Xhqj33"
      },
      "source": [
        "\n",
        "2. Decrypt the following ciphertexts with the given keys:\n",
        "\n",
        "With key 15: “ZXAI: P RDHIJBT HDBTIXBTH LDGC QN HRDIRWBTC XC PBTGXRP PCS PBTGXRPCH XC HRDIAPCS.”\n",
        "\n",
        "With key 4: “MQTSWXSV: E VMZEP EWTMVERX XS TYFPMG LSRSVW.”"
      ]
    },
    {
      "cell_type": "code",
      "metadata": {
        "colab": {
          "base_uri": "https://localhost:8080/",
          "height": 35
        },
        "id": "SniQwYvMt79-",
        "outputId": "4368f872-76da-41a1-e8c3-d9e5b5c23953"
      },
      "source": [
        "caesar_decrypt(\"ZXAI: P RDHIJBT HDBTIXBTH LDGC QN HRDIRWBTC XC PBTGXRP PCS PBTGXRPCH XC HRDIAPCS.\", 15)"
      ],
      "execution_count": null,
      "outputs": [
        {
          "output_type": "execute_result",
          "data": {
            "application/vnd.google.colaboratory.intrinsic+json": {
              "type": "string"
            },
            "text/plain": [
              "'KILT: A COSTUME SOMETIMES WORN BY SCOTCHMEN IN AMERICA AND AMERICANS IN SCOTLAND.'"
            ]
          },
          "metadata": {},
          "execution_count": 31
        }
      ]
    },
    {
      "cell_type": "code",
      "metadata": {
        "colab": {
          "base_uri": "https://localhost:8080/",
          "height": 35
        },
        "id": "tuhTqLd_uN3p",
        "outputId": "b666bbc5-f784-412a-e8d0-54f9fb44c1ea"
      },
      "source": [
        "caesar_decrypt(\"MQTSWXSV: E VMZEP EWTMVERX XS TYFPMG LSRSVW.\", 4)"
      ],
      "execution_count": null,
      "outputs": [
        {
          "output_type": "execute_result",
          "data": {
            "application/vnd.google.colaboratory.intrinsic+json": {
              "type": "string"
            },
            "text/plain": [
              "'IMPOSTOR: A RIVAL ASPIRANT TO PUBLIC HONORS.'"
            ]
          },
          "metadata": {},
          "execution_count": 33
        }
      ]
    },
    {
      "cell_type": "markdown",
      "metadata": {
        "id": "iyoh3TWuqlcm"
      },
      "source": [
        "\n",
        "\n",
        "3. Encrypt the following sentence with the key 0: “This is a silly example.”\n"
      ]
    },
    {
      "cell_type": "code",
      "metadata": {
        "colab": {
          "base_uri": "https://localhost:8080/",
          "height": 35
        },
        "id": "NRN5FJ6kuGEQ",
        "outputId": "215742c4-4390-4e40-e2ce-a600c7e446fc"
      },
      "source": [
        "caesar_encrypt(\"This is a silly example.\", 0)"
      ],
      "execution_count": null,
      "outputs": [
        {
          "output_type": "execute_result",
          "data": {
            "application/vnd.google.colaboratory.intrinsic+json": {
              "type": "string"
            },
            "text/plain": [
              "'This is a silly example.'"
            ]
          },
          "metadata": {},
          "execution_count": 34
        }
      ]
    },
    {
      "cell_type": "markdown",
      "metadata": {
        "id": "zdGhcMG9qmpv"
      },
      "source": [
        "\n",
        "4. Here are some words and their encryptions. Which key was used for each word?\n",
        "\n",
        "ROSEBUD – LIMYVOX\n",
        "\n",
        "YAMAMOTO – PRDRDFKF\n",
        "\n",
        "ASTRONOMY – HZAYVUVTF\n"
      ]
    },
    {
      "cell_type": "code",
      "metadata": {
        "colab": {
          "base_uri": "https://localhost:8080/"
        },
        "id": "FQMd3wUKwAvh",
        "outputId": "2785a34c-42cc-4a7a-87f0-ae0abfb490af"
      },
      "source": [
        "ceasar_detect_key('ROSEBUD', 'LIMYVOX')"
      ],
      "execution_count": null,
      "outputs": [
        {
          "output_type": "execute_result",
          "data": {
            "text/plain": [
              "20"
            ]
          },
          "metadata": {},
          "execution_count": 37
        }
      ]
    },
    {
      "cell_type": "code",
      "metadata": {
        "colab": {
          "base_uri": "https://localhost:8080/"
        },
        "id": "uE29lDHKwM84",
        "outputId": "491b9871-8dd4-4827-8ae3-087088e5421a"
      },
      "source": [
        "ceasar_detect_key('YAMAMOTO', 'PRDRDFKF')"
      ],
      "execution_count": null,
      "outputs": [
        {
          "output_type": "execute_result",
          "data": {
            "text/plain": [
              "17"
            ]
          },
          "metadata": {},
          "execution_count": 39
        }
      ]
    },
    {
      "cell_type": "code",
      "metadata": {
        "colab": {
          "base_uri": "https://localhost:8080/"
        },
        "id": "XgdizpbZwVkq",
        "outputId": "a12aaacf-94df-4751-ea23-0593b7ed6ad6"
      },
      "source": [
        "ceasar_detect_key('ASTRONOMY', 'HZAYVUVTF')"
      ],
      "execution_count": null,
      "outputs": [
        {
          "output_type": "execute_result",
          "data": {
            "text/plain": [
              "7"
            ]
          },
          "metadata": {},
          "execution_count": 40
        }
      ]
    },
    {
      "cell_type": "markdown",
      "metadata": {
        "id": "7xAIUt3YqnlZ"
      },
      "source": [
        "\n",
        "5. What does this sentence encrypted with key 8 decrypt to with key 9? “UMMSVMAA: Cvkwuuwv xibqmvkm qv xtivvqvo i zmdmvom bpib qa ewzbp epqtm.”"
      ]
    },
    {
      "cell_type": "code",
      "metadata": {
        "id": "fQggxyVxoxKx",
        "colab": {
          "base_uri": "https://localhost:8080/",
          "height": 35
        },
        "outputId": "8b371dcf-6d8b-42f9-e1ea-b15f8460681f"
      },
      "source": [
        "caesar_decrypt(\"UMMSVMAA: Cvkwuuwv xibqmvkm qv xtivvqvo i zmdmvom bpib qa ewzbp epqtm.\", 9)"
      ],
      "execution_count": null,
      "outputs": [
        {
          "output_type": "execute_result",
          "data": {
            "application/vnd.google.colaboratory.intrinsic+json": {
              "type": "string"
            },
            "text/plain": [
              "'LDDJMDRR: Tmbnllnm ozshdmbd hm okzmmhmf z qdudmfd sgzs hr vnqsg vghkd.'"
            ]
          },
          "metadata": {},
          "execution_count": 41
        }
      ]
    },
    {
      "cell_type": "code",
      "metadata": {
        "colab": {
          "base_uri": "https://localhost:8080/",
          "height": 35
        },
        "id": "ZdC9PjDtwxJ5",
        "outputId": "488e488b-6d92-48c6-bbb1-fd095f5c2e6c"
      },
      "source": [
        "caesar_decrypt(\"UMMSVMAA: Cvkwuuwv xibqmvkm qv xtivvqvo i zmdmvom bpib qa ewzbp epqtm.\", 8)"
      ],
      "execution_count": null,
      "outputs": [
        {
          "output_type": "execute_result",
          "data": {
            "application/vnd.google.colaboratory.intrinsic+json": {
              "type": "string"
            },
            "text/plain": [
              "'MEEKNESS: Uncommon patience in planning a revenge that is worth while.'"
            ]
          },
          "metadata": {},
          "execution_count": 42
        }
      ]
    }
  ]
}