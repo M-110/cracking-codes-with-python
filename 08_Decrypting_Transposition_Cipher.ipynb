{
  "nbformat": 4,
  "nbformat_minor": 0,
  "metadata": {
    "colab": {
      "name": "08_Decrypting_Transposition_Cipher.ipynb",
      "provenance": [],
      "collapsed_sections": [],
      "authorship_tag": "ABX9TyPHB3r0Uyl+yUOdvtIXrO4j",
      "include_colab_link": true
    },
    "kernelspec": {
      "name": "python3",
      "display_name": "Python 3"
    },
    "language_info": {
      "name": "python"
    }
  },
  "cells": [
    {
      "cell_type": "markdown",
      "metadata": {
        "id": "view-in-github",
        "colab_type": "text"
      },
      "source": [
        "<a href=\"https://colab.research.google.com/github/M-110/cracking-codes-with-python/blob/main/08_Decrypting_Transposition_Cipher.ipynb\" target=\"_parent\"><img src=\"https://colab.research.google.com/assets/colab-badge.svg\" alt=\"Open In Colab\"/></a>"
      ]
    },
    {
      "cell_type": "markdown",
      "metadata": {
        "id": "gYHak8XPZxvC"
      },
      "source": [
        "# Encrypt/Decrypt with numpy"
      ]
    },
    {
      "cell_type": "code",
      "metadata": {
        "id": "z5Oz_ku3uIzc"
      },
      "source": [
        "import math\n",
        "import numpy as np"
      ],
      "execution_count": null,
      "outputs": []
    },
    {
      "cell_type": "code",
      "metadata": {
        "id": "l0Lt1f_4VTAO"
      },
      "source": [
        "def transposition_encrypt_np(text, key):\n",
        "  array = np.array(list(text))\n",
        "  array.resize(math.ceil(len(text) / key) * key)\n",
        "  return ''.join(array.reshape((-1, key)).T.flatten())"
      ],
      "execution_count": null,
      "outputs": []
    },
    {
      "cell_type": "code",
      "metadata": {
        "id": "0mYT-m9XSmc_"
      },
      "source": [
        "def transposition_decrypt_np(text, key):\n",
        "  text = list(text)\n",
        "  rows = math.ceil(len(text)/key)\n",
        "  if len(text)%key:\n",
        "    missing = key - len(text)%key\n",
        "    for i in range(key - len(text)%key):\n",
        "      text.insert(rows * (key - missing + 1 + i) - 1, '')\n",
        "  array = np.array(text)\n",
        "  array.resize(rows * key)\n",
        "  return ''.join(array.reshape((key, -1)).T.flatten())"
      ],
      "execution_count": null,
      "outputs": []
    },
    {
      "cell_type": "code",
      "metadata": {
        "colab": {
          "base_uri": "https://localhost:8080/",
          "height": 35
        },
        "id": "ajAbANnKvSfe",
        "outputId": "c9c6c3ba-792d-4832-fa3f-a37e1d0128ce"
      },
      "source": [
        "transposition_encrypt_np(\"Common sense is not so common.\", 8)"
      ],
      "execution_count": null,
      "outputs": [
        {
          "output_type": "execute_result",
          "data": {
            "application/vnd.google.colaboratory.intrinsic+json": {
              "type": "string"
            },
            "text/plain": [
              "'Cenoonommstmme oo snnio. s s c'"
            ]
          },
          "metadata": {},
          "execution_count": 336
        }
      ]
    },
    {
      "cell_type": "code",
      "metadata": {
        "colab": {
          "base_uri": "https://localhost:8080/",
          "height": 35
        },
        "id": "TsWexefBv5S5",
        "outputId": "f6e6f2a2-7850-41e5-fa9c-073f5e75e4d4"
      },
      "source": [
        "transposition_decrypt_np('Cenoonommstmme oo snnio. s s c', 8)"
      ],
      "execution_count": null,
      "outputs": [
        {
          "output_type": "execute_result",
          "data": {
            "application/vnd.google.colaboratory.intrinsic+json": {
              "type": "string"
            },
            "text/plain": [
              "'Common sense is not so common.'"
            ]
          },
          "metadata": {},
          "execution_count": 291
        }
      ]
    },
    {
      "cell_type": "markdown",
      "metadata": {
        "id": "Hux4LY_kZ3AE"
      },
      "source": [
        "# Encrypt/Decrypt without numpy"
      ]
    },
    {
      "cell_type": "code",
      "metadata": {
        "id": "-ugozebJVpib"
      },
      "source": [
        "def transposition_encrypt(text, key):\n",
        "  result = [''] * key\n",
        "  for column in range(key):\n",
        "    i = column\n",
        "    while i < len(text):\n",
        "      result[column] += text[i]\n",
        "      i += key\n",
        "  return ''.join(result)"
      ],
      "execution_count": null,
      "outputs": []
    },
    {
      "cell_type": "code",
      "metadata": {
        "id": "BXU9g0IRVL1Y"
      },
      "source": [
        "def transposition_decrypt(text, key):\n",
        "  rows = math.ceil(len(text) / key)\n",
        "  text = list(text)\n",
        "  if len(text)%key:\n",
        "    missing = key - len(text)%key\n",
        "    for i in range(missing):\n",
        "      text.insert(rows * (key - missing + 1 + i) - 1, '')\n",
        "\n",
        "  result = [''] * rows\n",
        "  for row in range(rows):\n",
        "    i = row\n",
        "    while i < len(text):\n",
        "      result[row] += text[i]\n",
        "      i += rows\n",
        "  return ''.join(result)"
      ],
      "execution_count": null,
      "outputs": []
    },
    {
      "cell_type": "code",
      "metadata": {
        "colab": {
          "base_uri": "https://localhost:8080/",
          "height": 54
        },
        "id": "v4n2XtaGVLI7",
        "outputId": "a79aa1a8-e4bc-49ec-efc1-6b9e04fd2d7e"
      },
      "source": [
        "transposition_encrypt_2(\"Common sense is not so common.\", 8)"
      ],
      "execution_count": null,
      "outputs": [
        {
          "output_type": "stream",
          "name": "stdout",
          "text": [
            "['Ceno', 'onom', 'mstm', 'me o', 'o sn', 'nio.', ' s .', 's c.']\n"
          ]
        },
        {
          "output_type": "execute_result",
          "data": {
            "application/vnd.google.colaboratory.intrinsic+json": {
              "type": "string"
            },
            "text/plain": [
              "'Cenoonommstmme oo snnio. s .s c.'"
            ]
          },
          "metadata": {},
          "execution_count": 335
        }
      ]
    },
    {
      "cell_type": "code",
      "metadata": {
        "colab": {
          "base_uri": "https://localhost:8080/",
          "height": 54
        },
        "id": "Kb8KFBdzVdpS",
        "outputId": "d8867b85-abc7-43e7-b913-17754f55a2bc"
      },
      "source": [
        "transposition_decrypt_2('Cenoonommstmme oo snnio. s s c', 8)"
      ],
      "execution_count": null,
      "outputs": [
        {
          "output_type": "stream",
          "name": "stdout",
          "text": [
            "['Common s', 'ense is ', 'not so c', 'ommon.']\n"
          ]
        },
        {
          "output_type": "execute_result",
          "data": {
            "application/vnd.google.colaboratory.intrinsic+json": {
              "type": "string"
            },
            "text/plain": [
              "'Common sense is not so common.'"
            ]
          },
          "metadata": {},
          "execution_count": 323
        }
      ]
    },
    {
      "cell_type": "markdown",
      "metadata": {
        "id": "GmJMjyteZ6sO"
      },
      "source": [
        "# Alternative decrypt"
      ]
    },
    {
      "cell_type": "code",
      "metadata": {
        "id": "gMFb3RWRaAh6"
      },
      "source": [
        "def transposition_decrypt_2(text, key):\n",
        "  columns = math.ceil(len(text) / key)\n",
        "  rows = key\n",
        "  missing = (columns * rows) - len(text)\n",
        "\n",
        "  result = [''] * columns\n",
        "  column = 0\n",
        "  row = 0\n",
        "  for char in text:\n",
        "    result[column] += char\n",
        "    column += 1\n",
        "\n",
        "    if ((column == columns) or (column == columns - 1 and row >= rows - missing)):\n",
        "      column = 0\n",
        "      row += 1\n",
        "  return ''.join(result)"
      ],
      "execution_count": null,
      "outputs": []
    },
    {
      "cell_type": "code",
      "metadata": {
        "colab": {
          "base_uri": "https://localhost:8080/"
        },
        "id": "syRFw7fabKoL",
        "outputId": "b4d1806c-7cd7-4906-fb27-cfe1411c2712"
      },
      "source": [
        "%%timeit\n",
        "transposition_decrypt_np('Cenoonommstmme oo snnio. s s c', 8)"
      ],
      "execution_count": null,
      "outputs": [
        {
          "output_type": "stream",
          "name": "stdout",
          "text": [
            "The slowest run took 5.83 times longer than the fastest. This could mean that an intermediate result is being cached.\n",
            "10000 loops, best of 5: 18 µs per loop\n"
          ]
        }
      ]
    },
    {
      "cell_type": "code",
      "metadata": {
        "colab": {
          "base_uri": "https://localhost:8080/"
        },
        "id": "xRhkKhTobKrA",
        "outputId": "791e5e41-5127-476e-953f-98e13ac2f08f"
      },
      "source": [
        "%%timeit\n",
        "transposition_encrypt('Cenoonommstmme oo snnio. s s c', 8)"
      ],
      "execution_count": null,
      "outputs": [
        {
          "output_type": "stream",
          "name": "stdout",
          "text": [
            "100000 loops, best of 5: 12.9 µs per loop\n"
          ]
        }
      ]
    },
    {
      "cell_type": "code",
      "metadata": {
        "colab": {
          "base_uri": "https://localhost:8080/"
        },
        "id": "J1HYEtQsWDwi",
        "outputId": "02f40ef6-5691-4357-ad51-f157aef1f010"
      },
      "source": [
        "%%timeit\n",
        "transposition_decrypt_2('Cenoonommstmme oo snnio. s s c', 8)"
      ],
      "execution_count": null,
      "outputs": [
        {
          "output_type": "stream",
          "name": "stdout",
          "text": [
            "The slowest run took 6.40 times longer than the fastest. This could mean that an intermediate result is being cached.\n",
            "100000 loops, best of 5: 8.67 µs per loop\n"
          ]
        }
      ]
    },
    {
      "cell_type": "markdown",
      "metadata": {
        "id": "6h-uNBuGckPQ"
      },
      "source": [
        "# Implement encrypter/decrypter as one app"
      ]
    },
    {
      "cell_type": "code",
      "metadata": {
        "colab": {
          "base_uri": "https://localhost:8080/"
        },
        "id": "1yzUjVW_ZJmR",
        "outputId": "95a255d3-b202-4655-e3a1-1bc86e3d8f49"
      },
      "source": [
        "%%writefile transposition_cipher.py\n",
        "import argparse\n",
        "import math\n",
        "\n",
        "\n",
        "def main():\n",
        "  args = get_args()\n",
        "  if args.decrypt:\n",
        "    result = decrypt(args.text, args.key)\n",
        "  else:\n",
        "    result = encrypt(args.text, args.key)\n",
        "  print(result)\n",
        "\n",
        "\n",
        "def get_args():\n",
        "  \"\"\"Get args from command line.\"\"\"\n",
        "  parser = argparse.ArgumentParser(\n",
        "      description=\"Encrypt or decrypt text using the transposition cipher.\"\n",
        "  )\n",
        "  parser.add_argument('text', help='Text to be encrypted/decrypted')\n",
        "  parser.add_argument('-k', '--key', help='Encryption key', type=int)\n",
        "  parser.add_argument('-d', '--decrypt', help='Decrypt text', action='store_true')\n",
        "  return parser.parse_args()\n",
        "\n",
        "\n",
        "def encrypt(text, key):\n",
        "  \"\"\"Use the transposition cipher to encrypt the given text using the key.\"\"\"\n",
        "  result = [''] * key\n",
        "  for column in range(key):\n",
        "    i = column\n",
        "    while i < len(text):\n",
        "      result[column] += text[i]\n",
        "      i += key\n",
        "  return ''.join(result)\n",
        "\n",
        "\n",
        "def decrypt(text, key):\n",
        "  \"\"\"Use the transposition cipher to decrypt the given text using the key.\"\"\"\n",
        "  columns = math.ceil(len(text) / key)\n",
        "  missing = (columns * key) - len(text)\n",
        "  result = [''] * columns\n",
        "  column, row = 0, 0\n",
        "  for char in text:\n",
        "    result[column] += char\n",
        "    column += 1\n",
        "    if ((column == columns) or (column == columns - 1 and row >= key - missing)):\n",
        "      column = 0\n",
        "      row += 1\n",
        "  return ''.join(result)\n",
        "\n",
        "\n",
        "if __name__ == '__main__':\n",
        "  main()\n"
      ],
      "execution_count": null,
      "outputs": [
        {
          "output_type": "stream",
          "name": "stdout",
          "text": [
            "Overwriting transposition_cipher.py\n"
          ]
        }
      ]
    },
    {
      "cell_type": "code",
      "metadata": {
        "colab": {
          "base_uri": "https://localhost:8080/"
        },
        "id": "ZSK3GXjEe69J",
        "outputId": "9053103b-2ee6-43e5-dddf-e7fcc3b990f0"
      },
      "source": [
        "!python transposition_cipher.py \"Hello World!\" -k 3"
      ],
      "execution_count": null,
      "outputs": [
        {
          "output_type": "stream",
          "name": "stdout",
          "text": [
            "HlWleoodl r!\n"
          ]
        }
      ]
    },
    {
      "cell_type": "code",
      "metadata": {
        "colab": {
          "base_uri": "https://localhost:8080/"
        },
        "id": "x98QWykZfAWM",
        "outputId": "47c0a6e4-f98f-4867-f7fe-b0439ebdb119"
      },
      "source": [
        "!python transposition_cipher.py \"HlWleoodl r!\" -k 3 --decrypt"
      ],
      "execution_count": null,
      "outputs": [
        {
          "output_type": "stream",
          "name": "stdout",
          "text": [
            "Hello World!\n"
          ]
        }
      ]
    },
    {
      "cell_type": "markdown",
      "metadata": {
        "id": "nObNcg83fvO0"
      },
      "source": [
        "# Practice Question"
      ]
    },
    {
      "cell_type": "code",
      "metadata": {
        "colab": {
          "base_uri": "https://localhost:8080/"
        },
        "id": "2UACJeO4fSal",
        "outputId": "34a7f323-19df-4c5b-ab3a-6e9b49629f9e"
      },
      "source": [
        "!python transposition_cipher.py \"H▪cb▪▪irhdeuousBdi▪▪▪prrtyevdgp▪nir▪▪eerit▪eatoreechadihf▪paken▪ge▪b▪te▪dih▪aoa.da▪tts▪tn\" -k 9 --decrypt"
      ],
      "execution_count": null,
      "outputs": [
        {
          "output_type": "stream",
          "name": "stdout",
          "text": [
            "He▪picked▪up▪the▪acorn▪and▪buried▪it▪straight▪By▪the▪side▪of▪a▪river▪both▪deep▪and▪great.\n"
          ]
        }
      ]
    },
    {
      "cell_type": "code",
      "metadata": {
        "colab": {
          "base_uri": "https://localhost:8080/"
        },
        "id": "7OMrL_refgnF",
        "outputId": "7c601a2e-f680-4d4d-fd74-8e83ffc43ee7"
      },
      "source": [
        "!python transposition_cipher.py \"A▪b▪▪drottthawa▪nwar▪eci▪t▪nlel▪ktShw▪leec,hheat▪.na▪▪e▪soogmah▪a▪▪ateniAcgakh▪dmnor▪▪\" -k 9 --decrypt"
      ],
      "execution_count": null,
      "outputs": [
        {
          "output_type": "stream",
          "name": "stdout",
          "text": [
            "At▪length▪he▪came▪back,▪and▪with▪him▪a▪She▪And▪the▪acorn▪was▪grown▪to▪a▪tall▪oak▪tree.\n"
          ]
        }
      ]
    },
    {
      "cell_type": "code",
      "metadata": {
        "colab": {
          "base_uri": "https://localhost:8080/"
        },
        "id": "x4NtRsdSfj1M",
        "outputId": "3cef11bf-a6e0-4af4-9805-9d3a7ffebf83"
      },
      "source": [
        "!python transposition_cipher.py \"Bmmsrl▪dpnaua!toeboo’ktn▪uknrwos.▪yaregonr▪w▪nd,tu▪▪oiady▪hgtRwt▪▪▪A▪hhanhhasthtev▪▪e▪t▪e▪▪eo\" -k 9 --decrypt"
      ],
      "execution_count": null,
      "outputs": [
        {
          "output_type": "stream",
          "name": "stdout",
          "text": [
            "But▪with▪many▪a▪hem!▪and▪a▪sturdy▪stroke,▪At▪length▪he▪brought▪down▪the▪poor▪Raven’s▪own▪oak.\n"
          ]
        }
      ]
    },
    {
      "cell_type": "code",
      "metadata": {
        "id": "EYKtaai5fpzA"
      },
      "source": [
        ""
      ],
      "execution_count": null,
      "outputs": []
    }
  ]
}