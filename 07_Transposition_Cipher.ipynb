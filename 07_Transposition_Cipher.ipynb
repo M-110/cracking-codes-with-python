{
  "nbformat": 4,
  "nbformat_minor": 0,
  "metadata": {
    "colab": {
      "name": "07_Transposition_Cipher.ipynb",
      "provenance": [],
      "collapsed_sections": [],
      "authorship_tag": "ABX9TyNt1WAk1KQjYAgvAuRWvoY8",
      "include_colab_link": true
    },
    "kernelspec": {
      "name": "python3",
      "display_name": "Python 3"
    },
    "language_info": {
      "name": "python"
    }
  },
  "cells": [
    {
      "cell_type": "markdown",
      "metadata": {
        "id": "view-in-github",
        "colab_type": "text"
      },
      "source": [
        "<a href=\"https://colab.research.google.com/github/M-110/cracking-codes-with-python/blob/main/07_Transposition_Cipher.ipynb\" target=\"_parent\"><img src=\"https://colab.research.google.com/assets/colab-badge.svg\" alt=\"Open In Colab\"/></a>"
      ]
    },
    {
      "cell_type": "markdown",
      "metadata": {
        "id": "bLVFzQVP4RZQ"
      },
      "source": [
        "Transposition cipher rearranges the message's symbols into an order thta makes the original message unreadable."
      ]
    },
    {
      "cell_type": "code",
      "metadata": {
        "id": "VHPuDC5k9UMs"
      },
      "source": [
        "def transposition_encrypt(text, key):\n",
        "  new_text = [''] * (len(text) + len(text) % key)\n",
        "  for i, char in enumerate(text):\n",
        "    new_text[i // key + i % key * math.ceil(len(text) / key)] = char\n",
        "  return ''.join(new_text)\n"
      ],
      "execution_count": null,
      "outputs": []
    },
    {
      "cell_type": "code",
      "metadata": {
        "colab": {
          "base_uri": "https://localhost:8080/",
          "height": 35
        },
        "id": "qNqEQpFs-_KE",
        "outputId": "0cffc39a-606b-43e3-92dc-fbc55fee7c63"
      },
      "source": [
        "transposition_encrypt('Common sense is not so common.', 8)"
      ],
      "execution_count": null,
      "outputs": [
        {
          "output_type": "execute_result",
          "data": {
            "application/vnd.google.colaboratory.intrinsic+json": {
              "type": "string"
            },
            "text/plain": [
              "'Cenoonommstmme oo snnio. s s c'"
            ]
          },
          "metadata": {},
          "execution_count": 95
        }
      ]
    },
    {
      "cell_type": "markdown",
      "metadata": {
        "id": "6I67hvcF9Cba"
      },
      "source": [
        "# Implementing using alternative method"
      ]
    },
    {
      "cell_type": "code",
      "metadata": {
        "id": "5Wdsx7pB8QMR"
      },
      "source": [
        "def transposition_encrypt_2(text, key):\n",
        "  result = [''] * key\n",
        "  for column in range(key):\n",
        "    i = column\n",
        "    while i < len(text):\n",
        "      result[column] += text[i]\n",
        "      i += key\n",
        "  return ''.join(result)"
      ],
      "execution_count": null,
      "outputs": []
    },
    {
      "cell_type": "code",
      "metadata": {
        "colab": {
          "base_uri": "https://localhost:8080/",
          "height": 35
        },
        "id": "Y6WIVjOf5jII",
        "outputId": "55111e12-48cc-4906-eb70-e67534eda1c6"
      },
      "source": [
        "transposition_encrypt_2('Common sense is not so common.', 8)"
      ],
      "execution_count": null,
      "outputs": [
        {
          "output_type": "execute_result",
          "data": {
            "application/vnd.google.colaboratory.intrinsic+json": {
              "type": "string"
            },
            "text/plain": [
              "'Cenoonommstmme oo snnio. s s c'"
            ]
          },
          "metadata": {},
          "execution_count": 101
        }
      ]
    },
    {
      "cell_type": "code",
      "metadata": {
        "colab": {
          "base_uri": "https://localhost:8080/"
        },
        "id": "YhsEZzsj8-fO",
        "outputId": "28ad1859-9095-47c8-a83a-f0bd34c9d683"
      },
      "source": [
        "%%timeit\n",
        "transposition_encrypt('Common sense is not so common.', 8)"
      ],
      "execution_count": null,
      "outputs": [
        {
          "output_type": "stream",
          "name": "stdout",
          "text": [
            "100000 loops, best of 5: 12.4 µs per loop\n"
          ]
        }
      ]
    },
    {
      "cell_type": "code",
      "metadata": {
        "colab": {
          "base_uri": "https://localhost:8080/"
        },
        "id": "-1A4Ko66C4SV",
        "outputId": "9af4fa22-4c4c-4863-d179-f2e975f71e72"
      },
      "source": [
        "%%timeit\n",
        "transposition_encrypt_2('Common sense is not so common.', 8)"
      ],
      "execution_count": null,
      "outputs": [
        {
          "output_type": "stream",
          "name": "stdout",
          "text": [
            "100000 loops, best of 5: 9.12 µs per loop\n"
          ]
        }
      ]
    },
    {
      "cell_type": "markdown",
      "metadata": {
        "id": "XdgfA4i_TXpe"
      },
      "source": [
        "# Implimenting as a module"
      ]
    },
    {
      "cell_type": "code",
      "metadata": {
        "colab": {
          "base_uri": "https://localhost:8080/"
        },
        "id": "3l3Jo7dTD5gU",
        "outputId": "cea9f157-8110-4971-d91f-78ad672a9b33"
      },
      "source": [
        "%%writefile transposition_encrypt.py\n",
        "import argparse\n",
        "\n",
        "def main():\n",
        "  args = get_args()\n",
        "  encrypted_text = transposition_encrypt(args.text, args.key)\n",
        "  print(encrypted_text)\n",
        "\n",
        "\n",
        "def get_args():\n",
        "  \"\"\"Get arguments from command line.\"\"\"\n",
        "  parser = argparse.ArgumentParser(\n",
        "      description=\"Encrypt text using the transposition cipher\")\n",
        "  parser.add_argument('text', help='Text to be encrypted')\n",
        "  parser.add_argument('-k', '--key', help='Key to encrypt with', type=int)\n",
        "  return parser.parse_args()\n",
        "\n",
        "\n",
        "def transposition_encrypt(text: str, key: int) -> str:\n",
        "  \"\"\"Encrypt the text using the given key and the\n",
        "  transposition cipher.\"\"\"\n",
        "  result = [''] * key\n",
        "  for column in range(key):\n",
        "    i = column\n",
        "    while i < len(text):\n",
        "      result[column] += text[i]\n",
        "      i += key\n",
        "  return ''.join(result)\n",
        "\n",
        "\n",
        "if __name__ == '__main__':\n",
        "  main()"
      ],
      "execution_count": null,
      "outputs": [
        {
          "output_type": "stream",
          "name": "stdout",
          "text": [
            "Overwriting transposition_encrypt.py\n"
          ]
        }
      ]
    },
    {
      "cell_type": "code",
      "metadata": {
        "colab": {
          "base_uri": "https://localhost:8080/"
        },
        "id": "ZWEBriX_Tm5w",
        "outputId": "94a75a04-ac01-4a75-fe1a-4520f120c197"
      },
      "source": [
        "!python transposition_encrypt.py 'Common sense is not so common.' -k 8"
      ],
      "execution_count": null,
      "outputs": [
        {
          "output_type": "stream",
          "name": "stdout",
          "text": [
            "Cenoonommstmme oo snnio. s s c\n"
          ]
        }
      ]
    }
  ]
}