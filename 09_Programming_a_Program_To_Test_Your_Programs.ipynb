{
  "nbformat": 4,
  "nbformat_minor": 0,
  "metadata": {
    "colab": {
      "name": "09_Programming_a_Program_To_Test_Your_Programs.ipynb",
      "provenance": [],
      "collapsed_sections": [],
      "authorship_tag": "ABX9TyM+SvpP+Jy4IOy+MacQBRx4",
      "include_colab_link": true
    },
    "kernelspec": {
      "name": "python3",
      "display_name": "Python 3"
    },
    "language_info": {
      "name": "python"
    }
  },
  "cells": [
    {
      "cell_type": "markdown",
      "metadata": {
        "id": "view-in-github",
        "colab_type": "text"
      },
      "source": [
        "<a href=\"https://colab.research.google.com/github/M-110/cracking-codes-with-python/blob/main/09_Programming_a_Program_To_Test_Your_Programs.ipynb\" target=\"_parent\"><img src=\"https://colab.research.google.com/assets/colab-badge.svg\" alt=\"Open In Colab\"/></a>"
      ]
    },
    {
      "cell_type": "code",
      "metadata": {
        "colab": {
          "base_uri": "https://localhost:8080/"
        },
        "id": "lf3TuHuWl5B5",
        "outputId": "93a529aa-bc65-4f5a-a51c-8866f665ca8e"
      },
      "source": [
        "%%writefile transposition_cipher.py\n",
        "import argparse\n",
        "import math\n",
        "\n",
        "\n",
        "def main():\n",
        "  args = get_args()\n",
        "  if args.decrypt:\n",
        "    result = decrypt(args.text, args.key)\n",
        "  else:\n",
        "    result = encrypt(args.text, args.key)\n",
        "  print(result)\n",
        "\n",
        "\n",
        "def get_args():\n",
        "  \"\"\"Get args from command line.\"\"\"\n",
        "  parser = argparse.ArgumentParser(\n",
        "      description=\"Encrypt or decrypt text using the transposition cipher.\"\n",
        "  )\n",
        "  parser.add_argument('text', help='Text to be encrypted/decrypted')\n",
        "  parser.add_argument('-k', '--key', help='Encryption key', type=int)\n",
        "  parser.add_argument('-d', '--decrypt', help='Decrypt text', action='store_true')\n",
        "  return parser.parse_args()\n",
        "\n",
        "\n",
        "def encrypt(text, key):\n",
        "  \"\"\"Use the transposition cipher to encrypt the given text using the key.\"\"\"\n",
        "  result = [''] * key\n",
        "  for column in range(key):\n",
        "    i = column\n",
        "    while i < len(text):\n",
        "      result[column] += text[i]\n",
        "      i += key\n",
        "  return ''.join(result)\n",
        "\n",
        "\n",
        "def decrypt(text, key):\n",
        "  \"\"\"Use the transposition cipher to decrypt the given text using the key.\"\"\"\n",
        "  columns = math.ceil(len(text) / key)\n",
        "  missing = (columns * key) - len(text)\n",
        "  result = [''] * columns\n",
        "  column, row = 0, 0\n",
        "  for char in text:\n",
        "    result[column] += char\n",
        "    column += 1\n",
        "    if ((column == columns) or (column == columns - 1 and row >= key - missing)):\n",
        "      column = 0\n",
        "      row += 1\n",
        "  return ''.join(result)\n",
        "\n",
        "\n",
        "if __name__ == '__main__':\n",
        "  main()\n"
      ],
      "execution_count": null,
      "outputs": [
        {
          "output_type": "stream",
          "name": "stdout",
          "text": [
            "Writing transposition_cipher.py\n"
          ]
        }
      ]
    },
    {
      "cell_type": "code",
      "metadata": {
        "colab": {
          "base_uri": "https://localhost:8080/"
        },
        "id": "bunSORy_n3TA",
        "outputId": "2f76a4d9-f7b1-4172-efc2-449b04245fc4"
      },
      "source": [
        "%%writefile cipher_test.py\n",
        "import random\n",
        "import string\n",
        "from subprocess import getstatusoutput\n",
        "\n",
        "import pytest\n",
        "\n",
        "random.seed(1)\n",
        "\n",
        "RANDOM_STRINGS = [''.join(random.choices(string.ascii_lowercase + ' ', k=i+10))\n",
        "                  for i in range(10)]\n",
        "  \n",
        "args = [(text, key) for text in RANDOM_STRINGS for key in range(1, 10)]\n",
        "\n",
        "@pytest.mark.parametrize('text, key', args)\n",
        "def test_transposition_cipher(text, key):\n",
        "  _, encrypted_text = getstatusoutput(f'python transposition_cipher.py {text!r} -k {key}')\n",
        "  _, decrypted_text =  getstatusoutput(f'python transposition_cipher.py {encrypted_text!r} -k {key} --decrypt')\n",
        "  assert decrypted_text == text\n",
        "  "
      ],
      "execution_count": null,
      "outputs": [
        {
          "output_type": "stream",
          "name": "stdout",
          "text": [
            "Overwriting cipher_test.py\n"
          ]
        }
      ]
    },
    {
      "cell_type": "code",
      "metadata": {
        "colab": {
          "base_uri": "https://localhost:8080/"
        },
        "id": "74h3uAxCn_Gh",
        "outputId": "e78a130c-4378-4206-c8d5-9f56e8c31dc9"
      },
      "source": [
        "!python -m pytest -v"
      ],
      "execution_count": null,
      "outputs": [
        {
          "output_type": "stream",
          "name": "stdout",
          "text": [
            "\u001b[1m============================= test session starts ==============================\u001b[0m\n",
            "platform linux -- Python 3.7.12, pytest-3.6.4, py-1.10.0, pluggy-0.7.1 -- /usr/bin/python3\n",
            "cachedir: .pytest_cache\n",
            "rootdir: /content, inifile:\n",
            "plugins: typeguard-2.7.1\n",
            "\u001b[1m\rcollecting 0 items                                                             \u001b[0m\u001b[1m\rcollecting 90 items                                                            \u001b[0m\u001b[1m\rcollected 90 items                                                             \u001b[0m\n",
            "\n",
            "cipher_test.py::test_transposition_cipher[dwugnmrvca-1] \u001b[32mPASSED\u001b[0m\u001b[36m           [  1%]\u001b[0m\n",
            "cipher_test.py::test_transposition_cipher[dwugnmrvca-2] \u001b[32mPASSED\u001b[0m\u001b[36m           [  2%]\u001b[0m\n",
            "cipher_test.py::test_transposition_cipher[dwugnmrvca-3] \u001b[32mPASSED\u001b[0m\u001b[36m           [  3%]\u001b[0m\n",
            "cipher_test.py::test_transposition_cipher[dwugnmrvca-4] \u001b[32mPASSED\u001b[0m\u001b[36m           [  4%]\u001b[0m\n",
            "cipher_test.py::test_transposition_cipher[dwugnmrvca-5] \u001b[32mPASSED\u001b[0m\u001b[36m           [  5%]\u001b[0m\n",
            "cipher_test.py::test_transposition_cipher[dwugnmrvca-6] \u001b[32mPASSED\u001b[0m\u001b[36m           [  6%]\u001b[0m\n",
            "cipher_test.py::test_transposition_cipher[dwugnmrvca-7] \u001b[32mPASSED\u001b[0m\u001b[36m           [  7%]\u001b[0m\n",
            "cipher_test.py::test_transposition_cipher[dwugnmrvca-8] \u001b[32mPASSED\u001b[0m\u001b[36m           [  8%]\u001b[0m\n",
            "cipher_test.py::test_transposition_cipher[dwugnmrvca-9] \u001b[32mPASSED\u001b[0m\u001b[36m           [ 10%]\u001b[0m\n",
            "cipher_test.py::test_transposition_cipher[wluamtgzyaa-1] \u001b[32mPASSED\u001b[0m\u001b[36m          [ 11%]\u001b[0m\n",
            "cipher_test.py::test_transposition_cipher[wluamtgzyaa-2] \u001b[32mPASSED\u001b[0m\u001b[36m          [ 12%]\u001b[0m\n",
            "cipher_test.py::test_transposition_cipher[wluamtgzyaa-3] \u001b[32mPASSED\u001b[0m\u001b[36m          [ 13%]\u001b[0m\n",
            "cipher_test.py::test_transposition_cipher[wluamtgzyaa-4] \u001b[32mPASSED\u001b[0m\u001b[36m          [ 14%]\u001b[0m\n",
            "cipher_test.py::test_transposition_cipher[wluamtgzyaa-5] \u001b[32mPASSED\u001b[0m\u001b[36m          [ 15%]\u001b[0m\n",
            "cipher_test.py::test_transposition_cipher[wluamtgzyaa-6] \u001b[32mPASSED\u001b[0m\u001b[36m          [ 16%]\u001b[0m\n",
            "cipher_test.py::test_transposition_cipher[wluamtgzyaa-7] \u001b[32mPASSED\u001b[0m\u001b[36m          [ 17%]\u001b[0m\n",
            "cipher_test.py::test_transposition_cipher[wluamtgzyaa-8] \u001b[32mPASSED\u001b[0m\u001b[36m          [ 18%]\u001b[0m\n",
            "cipher_test.py::test_transposition_cipher[wluamtgzyaa-9] \u001b[32mPASSED\u001b[0m\u001b[36m          [ 20%]\u001b[0m\n",
            "cipher_test.py::test_transposition_cipher[ozkflaflnggf-1] \u001b[32mPASSED\u001b[0m\u001b[36m         [ 21%]\u001b[0m\n",
            "cipher_test.py::test_transposition_cipher[ozkflaflnggf-2] \u001b[32mPASSED\u001b[0m\u001b[36m         [ 22%]\u001b[0m\n",
            "cipher_test.py::test_transposition_cipher[ozkflaflnggf-3] \u001b[32mPASSED\u001b[0m\u001b[36m         [ 23%]\u001b[0m\n",
            "cipher_test.py::test_transposition_cipher[ozkflaflnggf-4] \u001b[32mPASSED\u001b[0m\u001b[36m         [ 24%]\u001b[0m\n",
            "cipher_test.py::test_transposition_cipher[ozkflaflnggf-5] \u001b[32mPASSED\u001b[0m\u001b[36m         [ 25%]\u001b[0m\n",
            "cipher_test.py::test_transposition_cipher[ozkflaflnggf-6] \u001b[32mPASSED\u001b[0m\u001b[36m         [ 26%]\u001b[0m\n",
            "cipher_test.py::test_transposition_cipher[ozkflaflnggf-7] \u001b[32mPASSED\u001b[0m\u001b[36m         [ 27%]\u001b[0m\n",
            "cipher_test.py::test_transposition_cipher[ozkflaflnggf-8] \u001b[32mPASSED\u001b[0m\u001b[36m         [ 28%]\u001b[0m\n",
            "cipher_test.py::test_transposition_cipher[ozkflaflnggf-9] \u001b[32mPASSED\u001b[0m\u001b[36m         [ 30%]\u001b[0m\n",
            "cipher_test.py::test_transposition_cipher[mhawprf xditt-1] \u001b[32mPASSED\u001b[0m\u001b[36m        [ 31%]\u001b[0m\n",
            "cipher_test.py::test_transposition_cipher[mhawprf xditt-2] \u001b[32mPASSED\u001b[0m\u001b[36m        [ 32%]\u001b[0m\n",
            "cipher_test.py::test_transposition_cipher[mhawprf xditt-3] \u001b[32mPASSED\u001b[0m\u001b[36m        [ 33%]\u001b[0m\n",
            "cipher_test.py::test_transposition_cipher[mhawprf xditt-4] \u001b[32mPASSED\u001b[0m\u001b[36m        [ 34%]\u001b[0m\n",
            "cipher_test.py::test_transposition_cipher[mhawprf xditt-5] \u001b[32mPASSED\u001b[0m\u001b[36m        [ 35%]\u001b[0m\n",
            "cipher_test.py::test_transposition_cipher[mhawprf xditt-6] \u001b[32mPASSED\u001b[0m\u001b[36m        [ 36%]\u001b[0m\n",
            "cipher_test.py::test_transposition_cipher[mhawprf xditt-7] \u001b[32mPASSED\u001b[0m\u001b[36m        [ 37%]\u001b[0m\n",
            "cipher_test.py::test_transposition_cipher[mhawprf xditt-8] \u001b[32mPASSED\u001b[0m\u001b[36m        [ 38%]\u001b[0m\n",
            "cipher_test.py::test_transposition_cipher[mhawprf xditt-9] \u001b[32mPASSED\u001b[0m\u001b[36m        [ 40%]\u001b[0m\n",
            "cipher_test.py::test_transposition_cipher[zlwsipxwnpagvl-1] \u001b[32mPASSED\u001b[0m\u001b[36m       [ 41%]\u001b[0m\n",
            "cipher_test.py::test_transposition_cipher[zlwsipxwnpagvl-2] \u001b[32mPASSED\u001b[0m\u001b[36m       [ 42%]\u001b[0m\n",
            "cipher_test.py::test_transposition_cipher[zlwsipxwnpagvl-3] \u001b[32mPASSED\u001b[0m\u001b[36m       [ 43%]\u001b[0m\n",
            "cipher_test.py::test_transposition_cipher[zlwsipxwnpagvl-4] \u001b[32mPASSED\u001b[0m\u001b[36m       [ 44%]\u001b[0m\n",
            "cipher_test.py::test_transposition_cipher[zlwsipxwnpagvl-5] \u001b[32mPASSED\u001b[0m\u001b[36m       [ 45%]\u001b[0m\n",
            "cipher_test.py::test_transposition_cipher[zlwsipxwnpagvl-6] \u001b[32mPASSED\u001b[0m\u001b[36m       [ 46%]\u001b[0m\n",
            "cipher_test.py::test_transposition_cipher[zlwsipxwnpagvl-7] \u001b[32mPASSED\u001b[0m\u001b[36m       [ 47%]\u001b[0m\n",
            "cipher_test.py::test_transposition_cipher[zlwsipxwnpagvl-8] \u001b[32mPASSED\u001b[0m\u001b[36m       [ 48%]\u001b[0m\n",
            "cipher_test.py::test_transposition_cipher[zlwsipxwnpagvl-9] \u001b[32mPASSED\u001b[0m\u001b[36m       [ 50%]\u001b[0m\n",
            "cipher_test.py::test_transposition_cipher[eossklnvoknabs -1] \u001b[32mPASSED\u001b[0m\u001b[36m      [ 51%]\u001b[0m\n",
            "cipher_test.py::test_transposition_cipher[eossklnvoknabs -2] \u001b[32mPASSED\u001b[0m\u001b[36m      [ 52%]\u001b[0m\n",
            "cipher_test.py::test_transposition_cipher[eossklnvoknabs -3] \u001b[32mPASSED\u001b[0m\u001b[36m      [ 53%]\u001b[0m\n",
            "cipher_test.py::test_transposition_cipher[eossklnvoknabs -4] \u001b[32mPASSED\u001b[0m\u001b[36m      [ 54%]\u001b[0m\n",
            "cipher_test.py::test_transposition_cipher[eossklnvoknabs -5] \u001b[32mPASSED\u001b[0m\u001b[36m      [ 55%]\u001b[0m\n",
            "cipher_test.py::test_transposition_cipher[eossklnvoknabs -6] \u001b[32mPASSED\u001b[0m\u001b[36m      [ 56%]\u001b[0m\n",
            "cipher_test.py::test_transposition_cipher[eossklnvoknabs -7] \u001b[32mPASSED\u001b[0m\u001b[36m      [ 57%]\u001b[0m\n",
            "cipher_test.py::test_transposition_cipher[eossklnvoknabs -8] \u001b[32mPASSED\u001b[0m\u001b[36m      [ 58%]\u001b[0m\n",
            "cipher_test.py::test_transposition_cipher[eossklnvoknabs -9] \u001b[32mPASSED\u001b[0m\u001b[36m      [ 60%]\u001b[0m\n",
            "cipher_test.py::test_transposition_cipher[qken uoxgnzpmhoz-1] \u001b[32mPASSED\u001b[0m\u001b[36m     [ 61%]\u001b[0m\n",
            "cipher_test.py::test_transposition_cipher[qken uoxgnzpmhoz-2] \u001b[32mPASSED\u001b[0m\u001b[36m     [ 62%]\u001b[0m\n",
            "cipher_test.py::test_transposition_cipher[qken uoxgnzpmhoz-3] \u001b[32mPASSED\u001b[0m\u001b[36m     [ 63%]\u001b[0m\n",
            "cipher_test.py::test_transposition_cipher[qken uoxgnzpmhoz-4] \u001b[32mPASSED\u001b[0m\u001b[36m     [ 64%]\u001b[0m\n",
            "cipher_test.py::test_transposition_cipher[qken uoxgnzpmhoz-5] \u001b[32mPASSED\u001b[0m\u001b[36m     [ 65%]\u001b[0m\n",
            "cipher_test.py::test_transposition_cipher[qken uoxgnzpmhoz-6] \u001b[32mPASSED\u001b[0m\u001b[36m     [ 66%]\u001b[0m\n",
            "cipher_test.py::test_transposition_cipher[qken uoxgnzpmhoz-7] \u001b[32mPASSED\u001b[0m\u001b[36m     [ 67%]\u001b[0m\n",
            "cipher_test.py::test_transposition_cipher[qken uoxgnzpmhoz-8] \u001b[32mPASSED\u001b[0m\u001b[36m     [ 68%]\u001b[0m\n",
            "cipher_test.py::test_transposition_cipher[qken uoxgnzpmhoz-9] \u001b[32mPASSED\u001b[0m\u001b[36m     [ 70%]\u001b[0m\n",
            "cipher_test.py::test_transposition_cipher[avwxtvoplbxpfnnjj-1] \u001b[32mPASSED\u001b[0m\u001b[36m    [ 71%]\u001b[0m\n",
            "cipher_test.py::test_transposition_cipher[avwxtvoplbxpfnnjj-2] \u001b[32mPASSED\u001b[0m\u001b[36m    [ 72%]\u001b[0m\n",
            "cipher_test.py::test_transposition_cipher[avwxtvoplbxpfnnjj-3] \u001b[32mPASSED\u001b[0m\u001b[36m    [ 73%]\u001b[0m\n",
            "cipher_test.py::test_transposition_cipher[avwxtvoplbxpfnnjj-4] \u001b[32mPASSED\u001b[0m\u001b[36m    [ 74%]\u001b[0m\n",
            "cipher_test.py::test_transposition_cipher[avwxtvoplbxpfnnjj-5] \u001b[32mPASSED\u001b[0m\u001b[36m    [ 75%]\u001b[0m\n",
            "cipher_test.py::test_transposition_cipher[avwxtvoplbxpfnnjj-6] \u001b[32mPASSED\u001b[0m\u001b[36m    [ 76%]\u001b[0m\n",
            "cipher_test.py::test_transposition_cipher[avwxtvoplbxpfnnjj-7] \u001b[32mPASSED\u001b[0m\u001b[36m    [ 77%]\u001b[0m\n",
            "cipher_test.py::test_transposition_cipher[avwxtvoplbxpfnnjj-8] \u001b[32mPASSED\u001b[0m\u001b[36m    [ 78%]\u001b[0m\n",
            "cipher_test.py::test_transposition_cipher[avwxtvoplbxpfnnjj-9] \u001b[32mPASSED\u001b[0m\u001b[36m    [ 80%]\u001b[0m\n",
            "cipher_test.py::test_transposition_cipher[oqqmagepxvvwgwscaa-1] \u001b[32mPASSED\u001b[0m\u001b[36m   [ 81%]\u001b[0m\n",
            "cipher_test.py::test_transposition_cipher[oqqmagepxvvwgwscaa-2] \u001b[32mPASSED\u001b[0m\u001b[36m   [ 82%]\u001b[0m\n",
            "cipher_test.py::test_transposition_cipher[oqqmagepxvvwgwscaa-3] \u001b[32mPASSED\u001b[0m\u001b[36m   [ 83%]\u001b[0m\n",
            "cipher_test.py::test_transposition_cipher[oqqmagepxvvwgwscaa-4] \u001b[32mPASSED\u001b[0m\u001b[36m   [ 84%]\u001b[0m\n",
            "cipher_test.py::test_transposition_cipher[oqqmagepxvvwgwscaa-5] \u001b[32mPASSED\u001b[0m\u001b[36m   [ 85%]\u001b[0m\n",
            "cipher_test.py::test_transposition_cipher[oqqmagepxvvwgwscaa-6] \u001b[32mPASSED\u001b[0m\u001b[36m   [ 86%]\u001b[0m\n",
            "cipher_test.py::test_transposition_cipher[oqqmagepxvvwgwscaa-7] \u001b[32mPASSED\u001b[0m\u001b[36m   [ 87%]\u001b[0m\n",
            "cipher_test.py::test_transposition_cipher[oqqmagepxvvwgwscaa-8] \u001b[32mPASSED\u001b[0m\u001b[36m   [ 88%]\u001b[0m\n",
            "cipher_test.py::test_transposition_cipher[oqqmagepxvvwgwscaa-9] \u001b[32mPASSED\u001b[0m\u001b[36m   [ 90%]\u001b[0m\n",
            "cipher_test.py::test_transposition_cipher[ugcqjbeoehtmimaklfc-1] \u001b[32mPASSED\u001b[0m\u001b[36m  [ 91%]\u001b[0m\n",
            "cipher_test.py::test_transposition_cipher[ugcqjbeoehtmimaklfc-2] \u001b[32mPASSED\u001b[0m\u001b[36m  [ 92%]\u001b[0m\n",
            "cipher_test.py::test_transposition_cipher[ugcqjbeoehtmimaklfc-3] \u001b[32mPASSED\u001b[0m\u001b[36m  [ 93%]\u001b[0m\n",
            "cipher_test.py::test_transposition_cipher[ugcqjbeoehtmimaklfc-4] \u001b[32mPASSED\u001b[0m\u001b[36m  [ 94%]\u001b[0m\n",
            "cipher_test.py::test_transposition_cipher[ugcqjbeoehtmimaklfc-5] \u001b[32mPASSED\u001b[0m\u001b[36m  [ 95%]\u001b[0m\n",
            "cipher_test.py::test_transposition_cipher[ugcqjbeoehtmimaklfc-6] \u001b[32mPASSED\u001b[0m\u001b[36m  [ 96%]\u001b[0m\n",
            "cipher_test.py::test_transposition_cipher[ugcqjbeoehtmimaklfc-7] \u001b[32mPASSED\u001b[0m\u001b[36m  [ 97%]\u001b[0m\n",
            "cipher_test.py::test_transposition_cipher[ugcqjbeoehtmimaklfc-8] \u001b[32mPASSED\u001b[0m\u001b[36m  [ 98%]\u001b[0m\n",
            "cipher_test.py::test_transposition_cipher[ugcqjbeoehtmimaklfc-9] \u001b[32mPASSED\u001b[0m\u001b[36m  [100%]\u001b[0m\n",
            "\n",
            "\u001b[32m\u001b[1m========================== 90 passed in 12.77 seconds ==========================\u001b[0m\n"
          ]
        }
      ]
    }
  ]
}